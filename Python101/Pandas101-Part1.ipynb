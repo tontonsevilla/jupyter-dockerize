{
 "cells": [
  {
   "cell_type": "markdown",
   "id": "5618cc6e-79f2-4edf-9c64-23cc0064ef51",
   "metadata": {},
   "source": [
    "# Pandas 101 - Part I"
   ]
  },
  {
   "cell_type": "code",
   "execution_count": 119,
   "id": "e8f3ed84-dbe6-4707-a4b7-1254e46f15d5",
   "metadata": {},
   "outputs": [],
   "source": [
    "import pandas as pd\n",
    "import numpy as np\n",
    "from numpy.random import randint"
   ]
  },
  {
   "cell_type": "code",
   "execution_count": 120,
   "id": "87f11680-6af4-4609-b511-c99c88ce0707",
   "metadata": {},
   "outputs": [],
   "source": [
    "np.random.seed(1) # This is to make sure that we always get the same number"
   ]
  },
  {
   "cell_type": "code",
   "execution_count": 121,
   "id": "af9a6365-373a-4def-83ca-3a1957908348",
   "metadata": {},
   "outputs": [
    {
     "data": {
      "text/html": [
       "<div>\n",
       "<style scoped>\n",
       "    .dataframe tbody tr th:only-of-type {\n",
       "        vertical-align: middle;\n",
       "    }\n",
       "\n",
       "    .dataframe tbody tr th {\n",
       "        vertical-align: top;\n",
       "    }\n",
       "\n",
       "    .dataframe thead th {\n",
       "        text-align: right;\n",
       "    }\n",
       "</style>\n",
       "<table border=\"1\" class=\"dataframe\">\n",
       "  <thead>\n",
       "    <tr style=\"text-align: right;\">\n",
       "      <th></th>\n",
       "      <th>W</th>\n",
       "      <th>X</th>\n",
       "      <th>Y</th>\n",
       "      <th>Z</th>\n",
       "    </tr>\n",
       "  </thead>\n",
       "  <tbody>\n",
       "    <tr>\n",
       "      <th>A</th>\n",
       "      <td>37</td>\n",
       "      <td>235</td>\n",
       "      <td>908</td>\n",
       "      <td>72</td>\n",
       "    </tr>\n",
       "    <tr>\n",
       "      <th>B</th>\n",
       "      <td>767</td>\n",
       "      <td>905</td>\n",
       "      <td>715</td>\n",
       "      <td>645</td>\n",
       "    </tr>\n",
       "    <tr>\n",
       "      <th>C</th>\n",
       "      <td>847</td>\n",
       "      <td>960</td>\n",
       "      <td>144</td>\n",
       "      <td>129</td>\n",
       "    </tr>\n",
       "    <tr>\n",
       "      <th>D</th>\n",
       "      <td>972</td>\n",
       "      <td>583</td>\n",
       "      <td>749</td>\n",
       "      <td>508</td>\n",
       "    </tr>\n",
       "    <tr>\n",
       "      <th>E</th>\n",
       "      <td>390</td>\n",
       "      <td>281</td>\n",
       "      <td>178</td>\n",
       "      <td>276</td>\n",
       "    </tr>\n",
       "  </tbody>\n",
       "</table>\n",
       "</div>"
      ],
      "text/plain": [
       "     W    X    Y    Z\n",
       "A   37  235  908   72\n",
       "B  767  905  715  645\n",
       "C  847  960  144  129\n",
       "D  972  583  749  508\n",
       "E  390  281  178  276"
      ]
     },
     "execution_count": 121,
     "metadata": {},
     "output_type": "execute_result"
    }
   ],
   "source": [
    "df = pd.DataFrame(randint(1000, size=(5,4)), [\"A\", \"B\", \"C\", \"D\", \"E\"], [\"W\", \"X\", \"Y\", \"Z\"])\n",
    "df"
   ]
  },
  {
   "cell_type": "code",
   "execution_count": 122,
   "id": "1d98bc36-5b9b-4e00-8459-1891f9d705cd",
   "metadata": {},
   "outputs": [
    {
     "data": {
      "text/plain": [
       "A     37\n",
       "B    767\n",
       "C    847\n",
       "D    972\n",
       "E    390\n",
       "Name: W, dtype: int64"
      ]
     },
     "execution_count": 122,
     "metadata": {},
     "output_type": "execute_result"
    }
   ],
   "source": [
    "df[\"W\"]"
   ]
  },
  {
   "cell_type": "code",
   "execution_count": 123,
   "id": "f10d2b65-726f-4f1a-9544-43c5c9b45952",
   "metadata": {},
   "outputs": [
    {
     "data": {
      "text/plain": [
       "pandas.core.series.Series"
      ]
     },
     "execution_count": 123,
     "metadata": {},
     "output_type": "execute_result"
    }
   ],
   "source": [
    "type(df[\"W\"])"
   ]
  },
  {
   "cell_type": "code",
   "execution_count": 124,
   "id": "e020e012-8f88-41ba-b28e-326b72251078",
   "metadata": {},
   "outputs": [
    {
     "data": {
      "text/plain": [
       "pandas.core.frame.DataFrame"
      ]
     },
     "execution_count": 124,
     "metadata": {},
     "output_type": "execute_result"
    }
   ],
   "source": [
    "type(df)"
   ]
  },
  {
   "cell_type": "code",
   "execution_count": 125,
   "id": "8fa1c95b-e1c1-4249-a669-a15b779e6c83",
   "metadata": {},
   "outputs": [
    {
     "data": {
      "text/plain": [
       "(5, 4)"
      ]
     },
     "execution_count": 125,
     "metadata": {},
     "output_type": "execute_result"
    }
   ],
   "source": [
    "df.shape"
   ]
  },
  {
   "cell_type": "markdown",
   "id": "c4359795-dd3a-4e58-a6b9-99ce94238ff0",
   "metadata": {
    "jp-MarkdownHeadingCollapsed": true
   },
   "source": [
    "## Retrieving Data"
   ]
  },
  {
   "cell_type": "markdown",
   "id": "0f2edefb-4b8c-4458-9e59-49df3341c9dd",
   "metadata": {},
   "source": [
    "- ### Retrieve all the data in the column"
   ]
  },
  {
   "cell_type": "code",
   "execution_count": 126,
   "id": "ba3620a1-d94e-4363-9893-d318975e95fd",
   "metadata": {},
   "outputs": [
    {
     "data": {
      "text/plain": [
       "A    235\n",
       "B    905\n",
       "C    960\n",
       "D    583\n",
       "E    281\n",
       "Name: X, dtype: int64"
      ]
     },
     "execution_count": 126,
     "metadata": {},
     "output_type": "execute_result"
    }
   ],
   "source": [
    "df[\"X\"]"
   ]
  },
  {
   "cell_type": "markdown",
   "id": "f0435c1e-02b2-4de9-b532-c99736774573",
   "metadata": {},
   "source": [
    "- ### Retrieve all the data from multiple columns"
   ]
  },
  {
   "cell_type": "code",
   "execution_count": 127,
   "id": "9332829d-28bc-47ce-955f-25796faa0acb",
   "metadata": {},
   "outputs": [
    {
     "data": {
      "text/html": [
       "<div>\n",
       "<style scoped>\n",
       "    .dataframe tbody tr th:only-of-type {\n",
       "        vertical-align: middle;\n",
       "    }\n",
       "\n",
       "    .dataframe tbody tr th {\n",
       "        vertical-align: top;\n",
       "    }\n",
       "\n",
       "    .dataframe thead th {\n",
       "        text-align: right;\n",
       "    }\n",
       "</style>\n",
       "<table border=\"1\" class=\"dataframe\">\n",
       "  <thead>\n",
       "    <tr style=\"text-align: right;\">\n",
       "      <th></th>\n",
       "      <th>W</th>\n",
       "      <th>Y</th>\n",
       "    </tr>\n",
       "  </thead>\n",
       "  <tbody>\n",
       "    <tr>\n",
       "      <th>A</th>\n",
       "      <td>37</td>\n",
       "      <td>908</td>\n",
       "    </tr>\n",
       "    <tr>\n",
       "      <th>B</th>\n",
       "      <td>767</td>\n",
       "      <td>715</td>\n",
       "    </tr>\n",
       "    <tr>\n",
       "      <th>C</th>\n",
       "      <td>847</td>\n",
       "      <td>144</td>\n",
       "    </tr>\n",
       "    <tr>\n",
       "      <th>D</th>\n",
       "      <td>972</td>\n",
       "      <td>749</td>\n",
       "    </tr>\n",
       "    <tr>\n",
       "      <th>E</th>\n",
       "      <td>390</td>\n",
       "      <td>178</td>\n",
       "    </tr>\n",
       "  </tbody>\n",
       "</table>\n",
       "</div>"
      ],
      "text/plain": [
       "     W    Y\n",
       "A   37  908\n",
       "B  767  715\n",
       "C  847  144\n",
       "D  972  749\n",
       "E  390  178"
      ]
     },
     "execution_count": 127,
     "metadata": {},
     "output_type": "execute_result"
    }
   ],
   "source": [
    "df[[\"W\", \"Y\"]]"
   ]
  },
  {
   "cell_type": "markdown",
   "id": "831bc36c-e808-4191-8127-e90f754cad94",
   "metadata": {
    "jp-MarkdownHeadingCollapsed": true
   },
   "source": [
    "## Adding New Column"
   ]
  },
  {
   "cell_type": "code",
   "execution_count": 128,
   "id": "aef5c4c7-647d-43c9-bcea-f1afc70de0ca",
   "metadata": {},
   "outputs": [
    {
     "data": {
      "text/html": [
       "<div>\n",
       "<style scoped>\n",
       "    .dataframe tbody tr th:only-of-type {\n",
       "        vertical-align: middle;\n",
       "    }\n",
       "\n",
       "    .dataframe tbody tr th {\n",
       "        vertical-align: top;\n",
       "    }\n",
       "\n",
       "    .dataframe thead th {\n",
       "        text-align: right;\n",
       "    }\n",
       "</style>\n",
       "<table border=\"1\" class=\"dataframe\">\n",
       "  <thead>\n",
       "    <tr style=\"text-align: right;\">\n",
       "      <th></th>\n",
       "      <th>W</th>\n",
       "      <th>X</th>\n",
       "      <th>Y</th>\n",
       "      <th>Z</th>\n",
       "      <th>New</th>\n",
       "    </tr>\n",
       "  </thead>\n",
       "  <tbody>\n",
       "    <tr>\n",
       "      <th>A</th>\n",
       "      <td>37</td>\n",
       "      <td>235</td>\n",
       "      <td>908</td>\n",
       "      <td>72</td>\n",
       "      <td>945</td>\n",
       "    </tr>\n",
       "    <tr>\n",
       "      <th>B</th>\n",
       "      <td>767</td>\n",
       "      <td>905</td>\n",
       "      <td>715</td>\n",
       "      <td>645</td>\n",
       "      <td>1482</td>\n",
       "    </tr>\n",
       "    <tr>\n",
       "      <th>C</th>\n",
       "      <td>847</td>\n",
       "      <td>960</td>\n",
       "      <td>144</td>\n",
       "      <td>129</td>\n",
       "      <td>991</td>\n",
       "    </tr>\n",
       "    <tr>\n",
       "      <th>D</th>\n",
       "      <td>972</td>\n",
       "      <td>583</td>\n",
       "      <td>749</td>\n",
       "      <td>508</td>\n",
       "      <td>1721</td>\n",
       "    </tr>\n",
       "    <tr>\n",
       "      <th>E</th>\n",
       "      <td>390</td>\n",
       "      <td>281</td>\n",
       "      <td>178</td>\n",
       "      <td>276</td>\n",
       "      <td>568</td>\n",
       "    </tr>\n",
       "  </tbody>\n",
       "</table>\n",
       "</div>"
      ],
      "text/plain": [
       "     W    X    Y    Z   New\n",
       "A   37  235  908   72   945\n",
       "B  767  905  715  645  1482\n",
       "C  847  960  144  129   991\n",
       "D  972  583  749  508  1721\n",
       "E  390  281  178  276   568"
      ]
     },
     "execution_count": 128,
     "metadata": {},
     "output_type": "execute_result"
    }
   ],
   "source": [
    "df[\"New\"] = df[\"W\"] + df[\"Y\"]\n",
    "df"
   ]
  },
  {
   "cell_type": "markdown",
   "id": "baf3ac5d-7f00-4a38-af45-06876b8e2e12",
   "metadata": {
    "jp-MarkdownHeadingCollapsed": true
   },
   "source": [
    "## Removing Column"
   ]
  },
  {
   "cell_type": "markdown",
   "id": "70ab962e-1203-497b-bf5c-e7d138b6bedf",
   "metadata": {},
   "source": [
    "- ### Non-Permanent"
   ]
  },
  {
   "cell_type": "code",
   "execution_count": 129,
   "id": "7496f202-14a0-4984-9398-791d2f049987",
   "metadata": {},
   "outputs": [
    {
     "data": {
      "text/html": [
       "<div>\n",
       "<style scoped>\n",
       "    .dataframe tbody tr th:only-of-type {\n",
       "        vertical-align: middle;\n",
       "    }\n",
       "\n",
       "    .dataframe tbody tr th {\n",
       "        vertical-align: top;\n",
       "    }\n",
       "\n",
       "    .dataframe thead th {\n",
       "        text-align: right;\n",
       "    }\n",
       "</style>\n",
       "<table border=\"1\" class=\"dataframe\">\n",
       "  <thead>\n",
       "    <tr style=\"text-align: right;\">\n",
       "      <th></th>\n",
       "      <th>W</th>\n",
       "      <th>X</th>\n",
       "      <th>Y</th>\n",
       "      <th>Z</th>\n",
       "    </tr>\n",
       "  </thead>\n",
       "  <tbody>\n",
       "    <tr>\n",
       "      <th>A</th>\n",
       "      <td>37</td>\n",
       "      <td>235</td>\n",
       "      <td>908</td>\n",
       "      <td>72</td>\n",
       "    </tr>\n",
       "    <tr>\n",
       "      <th>B</th>\n",
       "      <td>767</td>\n",
       "      <td>905</td>\n",
       "      <td>715</td>\n",
       "      <td>645</td>\n",
       "    </tr>\n",
       "    <tr>\n",
       "      <th>C</th>\n",
       "      <td>847</td>\n",
       "      <td>960</td>\n",
       "      <td>144</td>\n",
       "      <td>129</td>\n",
       "    </tr>\n",
       "    <tr>\n",
       "      <th>D</th>\n",
       "      <td>972</td>\n",
       "      <td>583</td>\n",
       "      <td>749</td>\n",
       "      <td>508</td>\n",
       "    </tr>\n",
       "    <tr>\n",
       "      <th>E</th>\n",
       "      <td>390</td>\n",
       "      <td>281</td>\n",
       "      <td>178</td>\n",
       "      <td>276</td>\n",
       "    </tr>\n",
       "  </tbody>\n",
       "</table>\n",
       "</div>"
      ],
      "text/plain": [
       "     W    X    Y    Z\n",
       "A   37  235  908   72\n",
       "B  767  905  715  645\n",
       "C  847  960  144  129\n",
       "D  972  583  749  508\n",
       "E  390  281  178  276"
      ]
     },
     "execution_count": 129,
     "metadata": {},
     "output_type": "execute_result"
    }
   ],
   "source": [
    "df.drop(\"New\", axis=1)"
   ]
  },
  {
   "cell_type": "code",
   "execution_count": 130,
   "id": "de9a6983-c62d-4dcc-b616-3eda525fd5a0",
   "metadata": {},
   "outputs": [
    {
     "data": {
      "text/html": [
       "<div>\n",
       "<style scoped>\n",
       "    .dataframe tbody tr th:only-of-type {\n",
       "        vertical-align: middle;\n",
       "    }\n",
       "\n",
       "    .dataframe tbody tr th {\n",
       "        vertical-align: top;\n",
       "    }\n",
       "\n",
       "    .dataframe thead th {\n",
       "        text-align: right;\n",
       "    }\n",
       "</style>\n",
       "<table border=\"1\" class=\"dataframe\">\n",
       "  <thead>\n",
       "    <tr style=\"text-align: right;\">\n",
       "      <th></th>\n",
       "      <th>W</th>\n",
       "      <th>X</th>\n",
       "      <th>Y</th>\n",
       "      <th>Z</th>\n",
       "      <th>New</th>\n",
       "    </tr>\n",
       "  </thead>\n",
       "  <tbody>\n",
       "    <tr>\n",
       "      <th>A</th>\n",
       "      <td>37</td>\n",
       "      <td>235</td>\n",
       "      <td>908</td>\n",
       "      <td>72</td>\n",
       "      <td>945</td>\n",
       "    </tr>\n",
       "    <tr>\n",
       "      <th>B</th>\n",
       "      <td>767</td>\n",
       "      <td>905</td>\n",
       "      <td>715</td>\n",
       "      <td>645</td>\n",
       "      <td>1482</td>\n",
       "    </tr>\n",
       "    <tr>\n",
       "      <th>C</th>\n",
       "      <td>847</td>\n",
       "      <td>960</td>\n",
       "      <td>144</td>\n",
       "      <td>129</td>\n",
       "      <td>991</td>\n",
       "    </tr>\n",
       "    <tr>\n",
       "      <th>D</th>\n",
       "      <td>972</td>\n",
       "      <td>583</td>\n",
       "      <td>749</td>\n",
       "      <td>508</td>\n",
       "      <td>1721</td>\n",
       "    </tr>\n",
       "    <tr>\n",
       "      <th>E</th>\n",
       "      <td>390</td>\n",
       "      <td>281</td>\n",
       "      <td>178</td>\n",
       "      <td>276</td>\n",
       "      <td>568</td>\n",
       "    </tr>\n",
       "  </tbody>\n",
       "</table>\n",
       "</div>"
      ],
      "text/plain": [
       "     W    X    Y    Z   New\n",
       "A   37  235  908   72   945\n",
       "B  767  905  715  645  1482\n",
       "C  847  960  144  129   991\n",
       "D  972  583  749  508  1721\n",
       "E  390  281  178  276   568"
      ]
     },
     "execution_count": 130,
     "metadata": {},
     "output_type": "execute_result"
    }
   ],
   "source": [
    "df"
   ]
  },
  {
   "cell_type": "markdown",
   "id": "d541edeb-eee0-44fd-9fb3-4759895a913f",
   "metadata": {},
   "source": [
    "- ### Permanent"
   ]
  },
  {
   "cell_type": "code",
   "execution_count": 131,
   "id": "7a8b3f84-c50f-4273-95bb-85cd43897404",
   "metadata": {},
   "outputs": [],
   "source": [
    "df.drop(\"New\", axis=1, inplace=True)"
   ]
  },
  {
   "cell_type": "code",
   "execution_count": 132,
   "id": "761dc02c-ab59-407f-bb75-3ee0a3d0e371",
   "metadata": {},
   "outputs": [
    {
     "data": {
      "text/html": [
       "<div>\n",
       "<style scoped>\n",
       "    .dataframe tbody tr th:only-of-type {\n",
       "        vertical-align: middle;\n",
       "    }\n",
       "\n",
       "    .dataframe tbody tr th {\n",
       "        vertical-align: top;\n",
       "    }\n",
       "\n",
       "    .dataframe thead th {\n",
       "        text-align: right;\n",
       "    }\n",
       "</style>\n",
       "<table border=\"1\" class=\"dataframe\">\n",
       "  <thead>\n",
       "    <tr style=\"text-align: right;\">\n",
       "      <th></th>\n",
       "      <th>W</th>\n",
       "      <th>X</th>\n",
       "      <th>Y</th>\n",
       "      <th>Z</th>\n",
       "    </tr>\n",
       "  </thead>\n",
       "  <tbody>\n",
       "    <tr>\n",
       "      <th>A</th>\n",
       "      <td>37</td>\n",
       "      <td>235</td>\n",
       "      <td>908</td>\n",
       "      <td>72</td>\n",
       "    </tr>\n",
       "    <tr>\n",
       "      <th>B</th>\n",
       "      <td>767</td>\n",
       "      <td>905</td>\n",
       "      <td>715</td>\n",
       "      <td>645</td>\n",
       "    </tr>\n",
       "    <tr>\n",
       "      <th>C</th>\n",
       "      <td>847</td>\n",
       "      <td>960</td>\n",
       "      <td>144</td>\n",
       "      <td>129</td>\n",
       "    </tr>\n",
       "    <tr>\n",
       "      <th>D</th>\n",
       "      <td>972</td>\n",
       "      <td>583</td>\n",
       "      <td>749</td>\n",
       "      <td>508</td>\n",
       "    </tr>\n",
       "    <tr>\n",
       "      <th>E</th>\n",
       "      <td>390</td>\n",
       "      <td>281</td>\n",
       "      <td>178</td>\n",
       "      <td>276</td>\n",
       "    </tr>\n",
       "  </tbody>\n",
       "</table>\n",
       "</div>"
      ],
      "text/plain": [
       "     W    X    Y    Z\n",
       "A   37  235  908   72\n",
       "B  767  905  715  645\n",
       "C  847  960  144  129\n",
       "D  972  583  749  508\n",
       "E  390  281  178  276"
      ]
     },
     "execution_count": 132,
     "metadata": {},
     "output_type": "execute_result"
    }
   ],
   "source": [
    "df"
   ]
  },
  {
   "cell_type": "markdown",
   "id": "be165ae1-5800-4804-85b1-28fc265cd702",
   "metadata": {
    "jp-MarkdownHeadingCollapsed": true
   },
   "source": [
    "## Removing Rows"
   ]
  },
  {
   "cell_type": "markdown",
   "id": "25763475-e401-4754-8654-eb8c46a3d471",
   "metadata": {},
   "source": [
    "- ### Non-Permanent"
   ]
  },
  {
   "cell_type": "code",
   "execution_count": 133,
   "id": "b9aab785-60ca-4b2e-8116-1d567363dc8f",
   "metadata": {},
   "outputs": [
    {
     "data": {
      "text/html": [
       "<div>\n",
       "<style scoped>\n",
       "    .dataframe tbody tr th:only-of-type {\n",
       "        vertical-align: middle;\n",
       "    }\n",
       "\n",
       "    .dataframe tbody tr th {\n",
       "        vertical-align: top;\n",
       "    }\n",
       "\n",
       "    .dataframe thead th {\n",
       "        text-align: right;\n",
       "    }\n",
       "</style>\n",
       "<table border=\"1\" class=\"dataframe\">\n",
       "  <thead>\n",
       "    <tr style=\"text-align: right;\">\n",
       "      <th></th>\n",
       "      <th>W</th>\n",
       "      <th>X</th>\n",
       "      <th>Y</th>\n",
       "      <th>Z</th>\n",
       "    </tr>\n",
       "  </thead>\n",
       "  <tbody>\n",
       "    <tr>\n",
       "      <th>A</th>\n",
       "      <td>37</td>\n",
       "      <td>235</td>\n",
       "      <td>908</td>\n",
       "      <td>72</td>\n",
       "    </tr>\n",
       "    <tr>\n",
       "      <th>B</th>\n",
       "      <td>767</td>\n",
       "      <td>905</td>\n",
       "      <td>715</td>\n",
       "      <td>645</td>\n",
       "    </tr>\n",
       "    <tr>\n",
       "      <th>C</th>\n",
       "      <td>847</td>\n",
       "      <td>960</td>\n",
       "      <td>144</td>\n",
       "      <td>129</td>\n",
       "    </tr>\n",
       "    <tr>\n",
       "      <th>D</th>\n",
       "      <td>972</td>\n",
       "      <td>583</td>\n",
       "      <td>749</td>\n",
       "      <td>508</td>\n",
       "    </tr>\n",
       "  </tbody>\n",
       "</table>\n",
       "</div>"
      ],
      "text/plain": [
       "     W    X    Y    Z\n",
       "A   37  235  908   72\n",
       "B  767  905  715  645\n",
       "C  847  960  144  129\n",
       "D  972  583  749  508"
      ]
     },
     "execution_count": 133,
     "metadata": {},
     "output_type": "execute_result"
    }
   ],
   "source": [
    "df.drop(\"E\", axis=0)"
   ]
  },
  {
   "cell_type": "code",
   "execution_count": 134,
   "id": "add66844-a63a-4be9-a9c4-131723c45ada",
   "metadata": {},
   "outputs": [
    {
     "data": {
      "text/html": [
       "<div>\n",
       "<style scoped>\n",
       "    .dataframe tbody tr th:only-of-type {\n",
       "        vertical-align: middle;\n",
       "    }\n",
       "\n",
       "    .dataframe tbody tr th {\n",
       "        vertical-align: top;\n",
       "    }\n",
       "\n",
       "    .dataframe thead th {\n",
       "        text-align: right;\n",
       "    }\n",
       "</style>\n",
       "<table border=\"1\" class=\"dataframe\">\n",
       "  <thead>\n",
       "    <tr style=\"text-align: right;\">\n",
       "      <th></th>\n",
       "      <th>W</th>\n",
       "      <th>X</th>\n",
       "      <th>Y</th>\n",
       "      <th>Z</th>\n",
       "    </tr>\n",
       "  </thead>\n",
       "  <tbody>\n",
       "    <tr>\n",
       "      <th>A</th>\n",
       "      <td>37</td>\n",
       "      <td>235</td>\n",
       "      <td>908</td>\n",
       "      <td>72</td>\n",
       "    </tr>\n",
       "    <tr>\n",
       "      <th>B</th>\n",
       "      <td>767</td>\n",
       "      <td>905</td>\n",
       "      <td>715</td>\n",
       "      <td>645</td>\n",
       "    </tr>\n",
       "    <tr>\n",
       "      <th>C</th>\n",
       "      <td>847</td>\n",
       "      <td>960</td>\n",
       "      <td>144</td>\n",
       "      <td>129</td>\n",
       "    </tr>\n",
       "    <tr>\n",
       "      <th>D</th>\n",
       "      <td>972</td>\n",
       "      <td>583</td>\n",
       "      <td>749</td>\n",
       "      <td>508</td>\n",
       "    </tr>\n",
       "    <tr>\n",
       "      <th>E</th>\n",
       "      <td>390</td>\n",
       "      <td>281</td>\n",
       "      <td>178</td>\n",
       "      <td>276</td>\n",
       "    </tr>\n",
       "  </tbody>\n",
       "</table>\n",
       "</div>"
      ],
      "text/plain": [
       "     W    X    Y    Z\n",
       "A   37  235  908   72\n",
       "B  767  905  715  645\n",
       "C  847  960  144  129\n",
       "D  972  583  749  508\n",
       "E  390  281  178  276"
      ]
     },
     "execution_count": 134,
     "metadata": {},
     "output_type": "execute_result"
    }
   ],
   "source": [
    "df"
   ]
  },
  {
   "cell_type": "markdown",
   "id": "4e0caf44-57f9-4dfa-afa8-219c9201847e",
   "metadata": {},
   "source": [
    "- ### Permanent"
   ]
  },
  {
   "cell_type": "code",
   "execution_count": 135,
   "id": "b1355529-50c0-453c-8fb7-e64779613fab",
   "metadata": {},
   "outputs": [],
   "source": [
    "df.drop(\"E\", axis=0, inplace=True)"
   ]
  },
  {
   "cell_type": "code",
   "execution_count": 136,
   "id": "1f13a0fe-60e6-4952-897a-8ef71cd6da7d",
   "metadata": {},
   "outputs": [
    {
     "data": {
      "text/html": [
       "<div>\n",
       "<style scoped>\n",
       "    .dataframe tbody tr th:only-of-type {\n",
       "        vertical-align: middle;\n",
       "    }\n",
       "\n",
       "    .dataframe tbody tr th {\n",
       "        vertical-align: top;\n",
       "    }\n",
       "\n",
       "    .dataframe thead th {\n",
       "        text-align: right;\n",
       "    }\n",
       "</style>\n",
       "<table border=\"1\" class=\"dataframe\">\n",
       "  <thead>\n",
       "    <tr style=\"text-align: right;\">\n",
       "      <th></th>\n",
       "      <th>W</th>\n",
       "      <th>X</th>\n",
       "      <th>Y</th>\n",
       "      <th>Z</th>\n",
       "    </tr>\n",
       "  </thead>\n",
       "  <tbody>\n",
       "    <tr>\n",
       "      <th>A</th>\n",
       "      <td>37</td>\n",
       "      <td>235</td>\n",
       "      <td>908</td>\n",
       "      <td>72</td>\n",
       "    </tr>\n",
       "    <tr>\n",
       "      <th>B</th>\n",
       "      <td>767</td>\n",
       "      <td>905</td>\n",
       "      <td>715</td>\n",
       "      <td>645</td>\n",
       "    </tr>\n",
       "    <tr>\n",
       "      <th>C</th>\n",
       "      <td>847</td>\n",
       "      <td>960</td>\n",
       "      <td>144</td>\n",
       "      <td>129</td>\n",
       "    </tr>\n",
       "    <tr>\n",
       "      <th>D</th>\n",
       "      <td>972</td>\n",
       "      <td>583</td>\n",
       "      <td>749</td>\n",
       "      <td>508</td>\n",
       "    </tr>\n",
       "  </tbody>\n",
       "</table>\n",
       "</div>"
      ],
      "text/plain": [
       "     W    X    Y    Z\n",
       "A   37  235  908   72\n",
       "B  767  905  715  645\n",
       "C  847  960  144  129\n",
       "D  972  583  749  508"
      ]
     },
     "execution_count": 136,
     "metadata": {},
     "output_type": "execute_result"
    }
   ],
   "source": [
    "df"
   ]
  },
  {
   "cell_type": "markdown",
   "id": "80c3dc71-6e09-4f9a-8a9b-66ebb9e591a9",
   "metadata": {},
   "source": [
    "## Manipulation of Row Level Data"
   ]
  },
  {
   "cell_type": "markdown",
   "id": "c9a8ebc7-5ee8-472e-95ef-fe50febea652",
   "metadata": {},
   "source": [
    "### Using of ***loc***"
   ]
  },
  {
   "cell_type": "markdown",
   "id": "5bb1c5e5-18d9-48e9-b724-5e6c0738d9b1",
   "metadata": {},
   "source": [
    "- #### Get data based on Row Label"
   ]
  },
  {
   "cell_type": "code",
   "execution_count": 137,
   "id": "30a2ee49-d5da-403d-94b3-9c96b2d9c742",
   "metadata": {},
   "outputs": [
    {
     "data": {
      "text/plain": [
       "W     37\n",
       "X    235\n",
       "Y    908\n",
       "Z     72\n",
       "Name: A, dtype: int64"
      ]
     },
     "execution_count": 137,
     "metadata": {},
     "output_type": "execute_result"
    }
   ],
   "source": [
    "df.loc[\"A\"]"
   ]
  },
  {
   "cell_type": "markdown",
   "id": "67a5350c-12a0-4ca0-b555-1d7c7c05af1a",
   "metadata": {},
   "source": [
    "- #### Get data based on Row and Column Label"
   ]
  },
  {
   "cell_type": "code",
   "execution_count": 140,
   "id": "d253b3d9-c691-4881-87b6-0067421b9828",
   "metadata": {},
   "outputs": [
    {
     "data": {
      "text/plain": [
       "905"
      ]
     },
     "execution_count": 140,
     "metadata": {},
     "output_type": "execute_result"
    }
   ],
   "source": [
    "df.loc[\"B\",\"X\"]"
   ]
  },
  {
   "cell_type": "markdown",
   "id": "1c58ef66-2bba-4f97-a0d2-4727a3859519",
   "metadata": {},
   "source": [
    "### Using of ***iloc***"
   ]
  },
  {
   "cell_type": "markdown",
   "id": "d9a774a9-4674-404b-807d-7827f5cc53ef",
   "metadata": {},
   "source": [
    "- #### Get data based on Row Index"
   ]
  },
  {
   "cell_type": "code",
   "execution_count": 139,
   "id": "0ef3124f-432c-4bed-9ad5-8cac15c2287e",
   "metadata": {},
   "outputs": [
    {
     "data": {
      "text/plain": [
       "W     37\n",
       "X    235\n",
       "Y    908\n",
       "Z     72\n",
       "Name: A, dtype: int64"
      ]
     },
     "execution_count": 139,
     "metadata": {},
     "output_type": "execute_result"
    }
   ],
   "source": [
    "df.iloc[0]"
   ]
  },
  {
   "cell_type": "markdown",
   "id": "8a08ae83-e907-47e0-823b-acce4de4c89e",
   "metadata": {},
   "source": [
    "- #### Get data based on Row and Column Index"
   ]
  },
  {
   "cell_type": "code",
   "execution_count": 143,
   "id": "86a646b8-9815-42f1-a29b-7007767f423c",
   "metadata": {},
   "outputs": [
    {
     "data": {
      "text/plain": [
       "905"
      ]
     },
     "execution_count": 143,
     "metadata": {},
     "output_type": "execute_result"
    }
   ],
   "source": [
    "df.iloc[1,1]"
   ]
  },
  {
   "cell_type": "code",
   "execution_count": null,
   "id": "e2222ee4-3684-4668-a0df-e81ac94b2472",
   "metadata": {},
   "outputs": [],
   "source": []
  }
 ],
 "metadata": {
  "kernelspec": {
   "display_name": "Python 3 (ipykernel)",
   "language": "python",
   "name": "python3"
  },
  "language_info": {
   "codemirror_mode": {
    "name": "ipython",
    "version": 3
   },
   "file_extension": ".py",
   "mimetype": "text/x-python",
   "name": "python",
   "nbconvert_exporter": "python",
   "pygments_lexer": "ipython3",
   "version": "3.11.6"
  }
 },
 "nbformat": 4,
 "nbformat_minor": 5
}
